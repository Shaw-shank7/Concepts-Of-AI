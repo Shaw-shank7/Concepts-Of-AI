{
  "nbformat": 4,
  "nbformat_minor": 0,
  "metadata": {
    "colab": {
      "provenance": []
    },
    "kernelspec": {
      "name": "python3",
      "display_name": "Python 3"
    },
    "language_info": {
      "name": "python"
    }
  },
  "cells": [
    {
      "cell_type": "code",
      "execution_count": 13,
      "metadata": {
        "id": "fdby8bZDBeHI"
      },
      "outputs": [],
      "source": [
        "import pandas as pd\n",
        "import numpy as np\n",
        "import matplotlib.pyplot as plt\n",
        "from sklearn.preprocessing import StandardScaler\n",
        "import time\n"
      ]
    },
    {
      "cell_type": "code",
      "source": [
        "from google.colab import drive\n",
        "drive.mount('/content/drive')"
      ],
      "metadata": {
        "colab": {
          "base_uri": "https://localhost:8080/"
        },
        "id": "GnOJLsRkEze8",
        "outputId": "cf9fc043-8067-42f8-d047-4c5dac5191d2"
      },
      "execution_count": 14,
      "outputs": [
        {
          "output_type": "stream",
          "name": "stdout",
          "text": [
            "Drive already mounted at /content/drive; to attempt to forcibly remount, call drive.mount(\"/content/drive\", force_remount=True).\n"
          ]
        }
      ]
    },
    {
      "cell_type": "code",
      "source": [
        "# Load the Titanic dataset\n",
        "data = pd.read_csv(\"/content/drive/MyDrive/Week2/Dataset/diabetes.csv\")\n",
        "\n",
        "# Drop all categorical columns except 'Survived'\n",
        "categorical_columns = data.select_dtypes(include=['object']).columns\n",
        "data = data.drop(columns=[col for col in categorical_columns if col != 'Survived'])\n",
        "\n",
        "# Check for missing values\n",
        "missing_info = data.isnull().sum() / len(data) * 100\n",
        "\n",
        "# Handle missing values\n",
        "for column in data.columns:\n",
        "    if missing_info[column] > 10:  # If more than 10% missing\n",
        "        data[column].fillna(data[column].mean(), inplace=True)\n",
        "    else:  # If less than 10% missing\n",
        "        data.dropna(subset=[column], inplace=True)\n",
        "\n",
        "# Display cleaned data\n",
        "print(\"Data after processing:\\n\", data.head())\n",
        "print(\"\\nMissing values after processing:\\n\", data.isnull().sum())\n"
      ],
      "metadata": {
        "colab": {
          "base_uri": "https://localhost:8080/"
        },
        "id": "aSbH7aluFA1H",
        "outputId": "377c21b9-2b51-44f9-f2bf-701e1330f907"
      },
      "execution_count": 15,
      "outputs": [
        {
          "output_type": "stream",
          "name": "stdout",
          "text": [
            "Data after processing:\n",
            "    Pregnancies  Glucose  BloodPressure  SkinThickness  Insulin   BMI  \\\n",
            "0            6      148             72             35        0  33.6   \n",
            "1            1       85             66             29        0  26.6   \n",
            "2            8      183             64              0        0  23.3   \n",
            "3            1       89             66             23       94  28.1   \n",
            "4            0      137             40             35      168  43.1   \n",
            "\n",
            "   DiabetesPedigreeFunction  Age  Outcome  \n",
            "0                     0.627   50        1  \n",
            "1                     0.351   31        0  \n",
            "2                     0.672   32        1  \n",
            "3                     0.167   21        0  \n",
            "4                     2.288   33        1  \n",
            "\n",
            "Missing values after processing:\n",
            " Pregnancies                 0\n",
            "Glucose                     0\n",
            "BloodPressure               0\n",
            "SkinThickness               0\n",
            "Insulin                     0\n",
            "BMI                         0\n",
            "DiabetesPedigreeFunction    0\n",
            "Age                         0\n",
            "Outcome                     0\n",
            "dtype: int64\n"
          ]
        }
      ]
    },
    {
      "cell_type": "code",
      "source": [
        "import pandas as pd\n",
        "import numpy as np\n",
        "\n",
        "import pandas as pd\n",
        "import numpy as np\n",
        "\n",
        "# Load the Titanic dataset\n",
        "data = pd.read_csv(\"/content/drive/MyDrive/Week2/Dataset/diabetes.csv\")\n",
        "\n",
        "# Instead of dropping categorical columns (as 'Survived' is not likely in your diabetes dataset)\n",
        "# you might want to drop irrelevant or redundant columns if any.\n",
        "# For example, if you had an 'ID' column, you could drop it:\n",
        "# data = data.drop(columns=['ID']) # Replace 'ID' with the actual column name\n",
        "\n",
        "# Check for missing values\n",
        "missing_info = data.isnull().sum() / len(data) * 100\n",
        "\n",
        "# Handle missing values\n",
        "for column in data.columns:\n",
        "    if missing_info[column] > 10:  # If more than 10% missing\n",
        "        data[column].fillna(data[column].mean(), inplace=True)\n",
        "    else:  # If less than 10% missing\n",
        "        data.dropna(subset=[column], inplace=True)\n",
        "\n",
        "# Display cleaned data\n",
        "print(\"Data after processing:\\n\", data.head())\n",
        "print(\"\\nMissing values after processing:\\n\", data.isnull().sum())\n",
        "\n",
        "# Assuming 'Outcome' is your target variable:\n",
        "X = data.drop(columns=['Outcome']).values  # Convert features to NumPy array\n",
        "y = data['Outcome'].values  # Convert target to NumPy array\n",
        "\n",
        "# ... (rest of your code)\n",
        "\n",
        "# Define a function for train-test split from scratch\n",
        "def train_test_split_scratch(X, y, test_size=0.3, random_seed=42):\n",
        "    \"\"\"\n",
        "    Splits dataset into train and test sets.\n",
        "    Arguments:\n",
        "    X : np.ndarray\n",
        "        Feature matrix.\n",
        "    y : np.ndarray\n",
        "        Target array.\n",
        "    test_size : float\n",
        "        Proportion of the dataset to include in the test split (0 < test_size < 1).\n",
        "    random_seed : int\n",
        "        Seed for reproducibility.\n",
        "    Returns:\n",
        "    X_train, X_test, y_train, y_test : np.ndarray\n",
        "        Training and testing splits of features and target.\n",
        "    \"\"\"\n",
        "    np.random.seed(random_seed)\n",
        "    indices = np.arange(X.shape[0])\n",
        "    np.random.shuffle(indices)  # Shuffle the indices\n",
        "    test_split_size = int(len(X) * test_size)\n",
        "    test_indices = indices[:test_split_size]\n",
        "    train_indices = indices[test_split_size:]\n",
        "    X_train, X_test = X[train_indices], X[test_indices]\n",
        "    y_train, y_test = y[train_indices], y[test_indices]\n",
        "    return X_train, X_test, y_train, y_test\n",
        "\n",
        "# Perform the train-test split\n",
        "X_train, X_test, y_train, y_test = train_test_split_scratch(X, y, test_size=0.3)\n",
        "\n",
        "# Output shapes to verify\n",
        "print(\"Shape of X_train:\", X_train.shape)\n",
        "print(\"Shape of X_test:\", X_test.shape)\n",
        "print(\"Shape of y_train:\", y_train.shape)\n",
        "print(\"Shape of y_test:\", y_test.shape)\n"
      ],
      "metadata": {
        "colab": {
          "base_uri": "https://localhost:8080/"
        },
        "id": "OrgZlXRUJQvo",
        "outputId": "4d4fe6a1-628a-43f1-ec68-9e5ca16eaec0"
      },
      "execution_count": 16,
      "outputs": [
        {
          "output_type": "stream",
          "name": "stdout",
          "text": [
            "Data after processing:\n",
            "    Pregnancies  Glucose  BloodPressure  SkinThickness  Insulin   BMI  \\\n",
            "0            6      148             72             35        0  33.6   \n",
            "1            1       85             66             29        0  26.6   \n",
            "2            8      183             64              0        0  23.3   \n",
            "3            1       89             66             23       94  28.1   \n",
            "4            0      137             40             35      168  43.1   \n",
            "\n",
            "   DiabetesPedigreeFunction  Age  Outcome  \n",
            "0                     0.627   50        1  \n",
            "1                     0.351   31        0  \n",
            "2                     0.672   32        1  \n",
            "3                     0.167   21        0  \n",
            "4                     2.288   33        1  \n",
            "\n",
            "Missing values after processing:\n",
            " Pregnancies                 0\n",
            "Glucose                     0\n",
            "BloodPressure               0\n",
            "SkinThickness               0\n",
            "Insulin                     0\n",
            "BMI                         0\n",
            "DiabetesPedigreeFunction    0\n",
            "Age                         0\n",
            "Outcome                     0\n",
            "dtype: int64\n",
            "Shape of X_train: (538, 8)\n",
            "Shape of X_test: (230, 8)\n",
            "Shape of y_train: (538,)\n",
            "Shape of y_test: (230,)\n"
          ]
        }
      ]
    },
    {
      "cell_type": "code",
      "source": [
        "# Problem - 1: Perform a classification task with knn from scratch.\n",
        "\n",
        "# 1. Load the Dataset:\n",
        "# • Read the dataset into a pandas DataFrame.\n",
        "dataset_path = \"/content/drive/MyDrive/Week2/Dataset/diabetes.csv\"\n",
        "df = pd.read_csv(dataset_path)\n",
        "\n",
        "# • Display the first few rows and perform exploratory data analysis (EDA) to understand the dataset\n",
        "# (e.g., check data types, missing values, summary statistics).\n",
        "print(\"First few rows of the dataset:\")\n",
        "print(df.head())\n",
        "\n",
        "print(\"\\nData Types:\")\n",
        "print(df.dtypes)\n",
        "\n",
        "print(\"\\nMissing Values:\")\n",
        "print(df.isnull().sum())\n",
        "\n",
        "print(\"\\nSummary Statistics:\")\n",
        "print(df.describe())"
      ],
      "metadata": {
        "id": "7b9c-Kc4Kza9",
        "colab": {
          "base_uri": "https://localhost:8080/"
        },
        "outputId": "d6b230b7-a159-4815-89f1-05b981b211ef"
      },
      "execution_count": 17,
      "outputs": [
        {
          "output_type": "stream",
          "name": "stdout",
          "text": [
            "First few rows of the dataset:\n",
            "   Pregnancies  Glucose  BloodPressure  SkinThickness  Insulin   BMI  \\\n",
            "0            6      148             72             35        0  33.6   \n",
            "1            1       85             66             29        0  26.6   \n",
            "2            8      183             64              0        0  23.3   \n",
            "3            1       89             66             23       94  28.1   \n",
            "4            0      137             40             35      168  43.1   \n",
            "\n",
            "   DiabetesPedigreeFunction  Age  Outcome  \n",
            "0                     0.627   50        1  \n",
            "1                     0.351   31        0  \n",
            "2                     0.672   32        1  \n",
            "3                     0.167   21        0  \n",
            "4                     2.288   33        1  \n",
            "\n",
            "Data Types:\n",
            "Pregnancies                   int64\n",
            "Glucose                       int64\n",
            "BloodPressure                 int64\n",
            "SkinThickness                 int64\n",
            "Insulin                       int64\n",
            "BMI                         float64\n",
            "DiabetesPedigreeFunction    float64\n",
            "Age                           int64\n",
            "Outcome                       int64\n",
            "dtype: object\n",
            "\n",
            "Missing Values:\n",
            "Pregnancies                 0\n",
            "Glucose                     0\n",
            "BloodPressure               0\n",
            "SkinThickness               0\n",
            "Insulin                     0\n",
            "BMI                         0\n",
            "DiabetesPedigreeFunction    0\n",
            "Age                         0\n",
            "Outcome                     0\n",
            "dtype: int64\n",
            "\n",
            "Summary Statistics:\n",
            "       Pregnancies     Glucose  BloodPressure  SkinThickness     Insulin  \\\n",
            "count   768.000000  768.000000     768.000000     768.000000  768.000000   \n",
            "mean      3.845052  120.894531      69.105469      20.536458   79.799479   \n",
            "std       3.369578   31.972618      19.355807      15.952218  115.244002   \n",
            "min       0.000000    0.000000       0.000000       0.000000    0.000000   \n",
            "25%       1.000000   99.000000      62.000000       0.000000    0.000000   \n",
            "50%       3.000000  117.000000      72.000000      23.000000   30.500000   \n",
            "75%       6.000000  140.250000      80.000000      32.000000  127.250000   \n",
            "max      17.000000  199.000000     122.000000      99.000000  846.000000   \n",
            "\n",
            "              BMI  DiabetesPedigreeFunction         Age     Outcome  \n",
            "count  768.000000                768.000000  768.000000  768.000000  \n",
            "mean    31.992578                  0.471876   33.240885    0.348958  \n",
            "std      7.884160                  0.331329   11.760232    0.476951  \n",
            "min      0.000000                  0.078000   21.000000    0.000000  \n",
            "25%     27.300000                  0.243750   24.000000    0.000000  \n",
            "50%     32.000000                  0.372500   29.000000    0.000000  \n",
            "75%     36.600000                  0.626250   41.000000    1.000000  \n",
            "max     67.100000                  2.420000   81.000000    1.000000  \n"
          ]
        }
      ]
    },
    {
      "cell_type": "code",
      "source": [
        "# 2. Handle Missing Data:\n",
        "# • Handle any missing values appropriately, either by dropping or imputing them based on the data.\n",
        "print(\"Missing Values Before Handling:\")\n",
        "print(df.isnull().sum())\n",
        "\n",
        "df_cleaned = df.dropna()\n",
        "\n",
        "print(\"\\nMissing Values After Handling:\")\n",
        "print(df_cleaned.isnull().sum())"
      ],
      "metadata": {
        "colab": {
          "base_uri": "https://localhost:8080/"
        },
        "id": "Q7qBcOltePI5",
        "outputId": "15f11073-f7b1-449d-b3a0-6b130bc6e40a"
      },
      "execution_count": 18,
      "outputs": [
        {
          "output_type": "stream",
          "name": "stdout",
          "text": [
            "Missing Values Before Handling:\n",
            "Pregnancies                 0\n",
            "Glucose                     0\n",
            "BloodPressure               0\n",
            "SkinThickness               0\n",
            "Insulin                     0\n",
            "BMI                         0\n",
            "DiabetesPedigreeFunction    0\n",
            "Age                         0\n",
            "Outcome                     0\n",
            "dtype: int64\n",
            "\n",
            "Missing Values After Handling:\n",
            "Pregnancies                 0\n",
            "Glucose                     0\n",
            "BloodPressure               0\n",
            "SkinThickness               0\n",
            "Insulin                     0\n",
            "BMI                         0\n",
            "DiabetesPedigreeFunction    0\n",
            "Age                         0\n",
            "Outcome                     0\n",
            "dtype: int64\n"
          ]
        }
      ]
    },
    {
      "cell_type": "code",
      "source": [
        "# 3. Feature Engineering:\n",
        "# • Separate the feature matrix (X) and target variable (y).\n",
        "X = df_cleaned.drop(columns=['Outcome'])\n",
        "y = df_cleaned['Outcome']\n",
        "\n",
        "# • Perform a train - test split from scratch using a 70% − 30% ratio.\n",
        "split_index = int(0.7 * len(X))\n",
        "\n",
        "shuffled_indices = np.random.permutation(len(X))\n",
        "X = X.iloc[shuffled_indices]\n",
        "y = y.iloc[shuffled_indices]\n",
        "\n",
        "# Split the data\n",
        "X_train, X_test = X[:split_index], X[split_index:]\n",
        "y_train, y_test = y[:split_index], y[split_index:]\n",
        "\n",
        "# Display the resulting splits\n",
        "print(\"Shape of Training Features (X_train):\", X_train.shape)\n",
        "print(\"Shape of Training Target (y_train):\", y_train.shape)\n",
        "print(\"Shape of Testing Features (X_test):\", X_test.shape)\n",
        "print(\"Shape of Testing Target (y_test):\", y_test.shape)"
      ],
      "metadata": {
        "colab": {
          "base_uri": "https://localhost:8080/"
        },
        "id": "XBzBRc77eSYG",
        "outputId": "e446ee24-f246-4f67-f8a8-299da6b83be3"
      },
      "execution_count": 19,
      "outputs": [
        {
          "output_type": "stream",
          "name": "stdout",
          "text": [
            "Shape of Training Features (X_train): (537, 8)\n",
            "Shape of Training Target (y_train): (537,)\n",
            "Shape of Testing Features (X_test): (231, 8)\n",
            "Shape of Testing Target (y_test): (231,)\n"
          ]
        }
      ]
    },
    {
      "cell_type": "code",
      "source": [
        "# 4. Implement KNN:\n",
        "# • Build the KNN algorithm from scratch (no libraries like sickit-learn for KNN).\n",
        "\n",
        "# • Compute distances using Euclidean distance.\n",
        "def euclidean_distance(x1, x2):\n",
        "    return np.sqrt(np.sum((x1 - x2) ** 2))\n",
        "\n",
        "# • Write functions for:\n",
        "\n",
        "# – Predicting the class for a single query.\n",
        "def predict_single(query_point, X_train, y_train, k):\n",
        "    distances = []\n",
        "    for i in range(len(X_train)):\n",
        "        dist = euclidean_distance(query_point, X_train[i])\n",
        "        distances.append((dist, y_train[i]))\n",
        "    distances.sort(key=lambda x: x[0])\n",
        "    k_neighbors = [neighbor[1] for neighbor in distances[:k]]\n",
        "\n",
        "    # Return the most common class\n",
        "    return max(set(k_neighbors), key=k_neighbors.count)\n",
        "\n",
        "# – Predicting classes for all test samples.\n",
        "def predict(X_test, X_train, y_train, k):\n",
        "    predictions = []\n",
        "    for query_point in X_test:\n",
        "        pred = predict_single(query_point, X_train, y_train, k)\n",
        "        predictions.append(pred)\n",
        "    return np.array(predictions)\n",
        "\n",
        "# • Evaluate the performance using accuracy.\n",
        "def evaluate_accuracy(y_test, y_pred):\n",
        "    return np.mean(y_test == y_pred)\n",
        "\n",
        "X_train_np = X_train.to_numpy()\n",
        "y_train_np = y_train.to_numpy()\n",
        "X_test_np = X_test.to_numpy()\n",
        "y_test_np = y_test.to_numpy()\n",
        "\n",
        "k = 3\n",
        "y_pred = predict(X_test_np, X_train_np, y_train_np, k)\n",
        "accuracy = evaluate_accuracy(y_test_np, y_pred)\n",
        "\n",
        "print(f\"Accuracy of KNN classifier with k={k}: {accuracy:.2f}\")"
      ],
      "metadata": {
        "colab": {
          "base_uri": "https://localhost:8080/"
        },
        "id": "oGR-H7gSeUKZ",
        "outputId": "bd7fec85-110a-4451-975c-9504a49f0aca"
      },
      "execution_count": 20,
      "outputs": [
        {
          "output_type": "stream",
          "name": "stdout",
          "text": [
            "Accuracy of KNN classifier with k=3: 0.62\n"
          ]
        }
      ]
    },
    {
      "cell_type": "code",
      "source": [
        "# Problem - 2 - Experimentation:\n",
        "\n",
        "# 1. Repeat the Classification Task:\n",
        "# • Scale the Feature matrix X.\n",
        "scaler = StandardScaler()\n",
        "X_train_scaled = scaler.fit_transform(X_train)\n",
        "X_test_scaled = scaler.transform(X_test)\n",
        "\n",
        "# • Use the scaled data for training and testing the kNN Classifier.\n",
        "# • Record the results.\n",
        "y_pred_scaled = predict(X_test_scaled, X_train_scaled, y_train_np, k)\n",
        "\n",
        "accuracy_scaled = evaluate_accuracy(y_test_np, y_pred_scaled)\n",
        "\n",
        "print(f\"Accuracy of KNN classifier with k={k} on scaled data: {accuracy_scaled:.2f}\")"
      ],
      "metadata": {
        "colab": {
          "base_uri": "https://localhost:8080/"
        },
        "id": "WWbuCVaFeW2V",
        "outputId": "a49225a9-e180-4de6-c4b7-863e71ddd631"
      },
      "execution_count": 21,
      "outputs": [
        {
          "output_type": "stream",
          "name": "stdout",
          "text": [
            "Accuracy of KNN classifier with k=3 on scaled data: 0.68\n"
          ]
        }
      ]
    },
    {
      "cell_type": "code",
      "source": [
        "# 2. Comparative Analysis: Compare the Results -\n",
        "# • Compare the accuracy and performance of the kNN model on the original dataset from problem 1 versus the scaled dataset.\n",
        "y_pred_original = predict(X_test_np, X_train_np, y_train_np, k)\n",
        "accuracy_original = evaluate_accuracy(y_test_np, y_pred_original)\n",
        "\n",
        "print(f\"Accuracy of KNN classifier with k={k} on original data: {accuracy_original:.2f}\")\n",
        "print(f\"Accuracy of KNN classifier with k={k} on scaled data: {accuracy_scaled:.2f}\")"
      ],
      "metadata": {
        "colab": {
          "base_uri": "https://localhost:8080/"
        },
        "id": "EwtWoeUvetNN",
        "outputId": "c9b29e89-97ea-45e2-c285-165a7ec3e0b5"
      },
      "execution_count": 22,
      "outputs": [
        {
          "output_type": "stream",
          "name": "stdout",
          "text": [
            "Accuracy of KNN classifier with k=3 on original data: 0.62\n",
            "Accuracy of KNN classifier with k=3 on scaled data: 0.68\n"
          ]
        }
      ]
    },
    {
      "cell_type": "code",
      "source": [
        "\n",
        "# Problem - 3 - Experimentation with k:\n",
        "# 1. Vary the number of neighbors - k:\n",
        "\n",
        "k_values = list(range(1, 16))  # k values from 1 to 15\n",
        "accuracy_original = []\n",
        "accuracy_scaled = []\n",
        "time_original = []\n",
        "time_scaled = []\n",
        "\n",
        "# • Run the KNN model on both the original and scaled datasets for a range of:\n",
        "# k= 1, 2, 3, . . . 15\n",
        "# • For each k, record:\n",
        "\n",
        "for k in k_values:\n",
        "    # Time for original data\n",
        "    start_time = time.time()\n",
        "    y_pred_original = predict(X_test_np, X_train_np, y_train_np, k)\n",
        "    time_taken_original = time.time() - start_time\n",
        "    accuracy_original.append(evaluate_accuracy(y_test_np, y_pred_original))\n",
        "    time_original.append(time_taken_original)\n",
        "\n",
        "    # Time for scaled data\n",
        "    start_time = time.time()\n",
        "    y_pred_scaled = predict(X_test_scaled, X_train_scaled, y_train_np, k)\n",
        "    time_taken_scaled = time.time() - start_time\n",
        "    accuracy_scaled.append(evaluate_accuracy(y_test_np, y_pred_scaled))\n",
        "    time_scaled.append(time_taken_scaled)\n",
        "\n",
        "    # Print progress every 5 steps to check status\n",
        "    if k % 5 == 0:\n",
        "        print(f\"Completed k={k}...\")\n",
        "\n",
        "print(f\"Length of k_values: {len(k_values)}\")\n",
        "print(f\"Length of time_scaled: {len(time_scaled)}\")\n",
        "\n",
        "print(\"k\\tAccuracy (Original)\\tTime (Original)\\tAccuracy (Scaled)\\tTime (Scaled)\")\n",
        "for k, acc_orig, time_orig, acc_scaled, time_scaled in zip(k_values, accuracy_original, time_original, accuracy_scaled, time_scaled):\n",
        "    print(f\"{k}\\t{acc_orig:.4f}\\t\\t{time_orig:.4f}\\t\\t{acc_scaled:.4f}\\t\\t{time_scaled:.4f}\")"
      ],
      "metadata": {
        "colab": {
          "base_uri": "https://localhost:8080/"
        },
        "id": "i-wxrqtNezEQ",
        "outputId": "05ccc05a-cb34-4877-b9a6-0184afaf058c"
      },
      "execution_count": 23,
      "outputs": [
        {
          "output_type": "stream",
          "name": "stdout",
          "text": [
            "Completed k=5...\n",
            "Completed k=10...\n",
            "Completed k=15...\n",
            "Length of k_values: 15\n",
            "Length of time_scaled: 15\n",
            "k\tAccuracy (Original)\tTime (Original)\tAccuracy (Scaled)\tTime (Scaled)\n",
            "1\t0.6667\t\t3.0448\t\t0.6320\t\t2.9792\n",
            "2\t0.6623\t\t2.0754\t\t0.6580\t\t1.5646\n",
            "3\t0.6234\t\t0.9190\t\t0.6840\t\t0.9496\n",
            "4\t0.6753\t\t0.9173\t\t0.6450\t\t0.9006\n",
            "5\t0.6970\t\t0.9038\t\t0.6364\t\t0.9382\n",
            "6\t0.7013\t\t0.9268\t\t0.6797\t\t1.0661\n",
            "7\t0.7100\t\t1.7094\t\t0.6926\t\t1.6353\n",
            "8\t0.7100\t\t1.3404\t\t0.6710\t\t0.9243\n",
            "9\t0.7100\t\t0.9384\t\t0.6970\t\t0.9434\n",
            "10\t0.7186\t\t1.0400\t\t0.7056\t\t0.9932\n",
            "11\t0.6970\t\t0.9393\t\t0.7100\t\t0.9193\n",
            "12\t0.7273\t\t0.9251\t\t0.6970\t\t1.0231\n",
            "13\t0.7056\t\t0.9794\t\t0.6926\t\t1.6873\n",
            "14\t0.7273\t\t1.7043\t\t0.7013\t\t1.7541\n",
            "15\t0.7186\t\t1.0757\t\t0.7056\t\t1.0674\n"
          ]
        }
      ]
    },
    {
      "cell_type": "code",
      "source": [
        "# 2. Visualize the Results:\n",
        "# • Plot the following graphs:\n",
        "# – k vs. Accuracy for original and scaled datasets.\n",
        "plt.figure(figsize=(10, 6))\n",
        "plt.plot(k_values, accuracy_original, label=\"Accuracy (Original)\", color='blue', marker='o')\n",
        "plt.plot(k_values, accuracy_scaled, label=\"Accuracy (Scaled)\", color='green', marker='x')\n",
        "plt.title(\"k vs Accuracy\")\n",
        "plt.xlabel(\"k (Number of Neighbors)\")\n",
        "plt.ylabel(\"Accuracy\")\n",
        "plt.legend()\n",
        "plt.grid(True)\n",
        "plt.show()\n",
        "\n",
        "# – k vs. Time Taken for original and scaled datasets.\n",
        "plt.figure(figsize=(10, 6))\n",
        "plt.plot(k_values, time_original, label=\"Time (Original)\", color='blue', marker='o')\n",
        "plt.plot(k_values, time_scaled, label=\"Time (Scaled)\", color='green', marker='x')\n",
        "plt.title(\"k vs Time Taken\")\n",
        "plt.xlabel(\"k (Number of Neighbors)\")\n",
        "plt.ylabel(\"Time Taken (Seconds)\")\n",
        "plt.legend()\n",
        "plt.grid(True)\n",
        "plt.show()"
      ],
      "metadata": {
        "colab": {
          "base_uri": "https://localhost:8080/",
          "height": 1000
        },
        "id": "oD46WV10fCTu",
        "outputId": "c763fda1-a895-4072-c919-fcbd74aafa07"
      },
      "execution_count": 26,
      "outputs": [
        {
          "output_type": "display_data",
          "data": {
            "text/plain": [
              "<Figure size 1000x600 with 1 Axes>"
            ],
            "image/png": "[encoded data removed]"
          },
          "metadata": {}
        },
        {
          "output_type": "error",
          "ename": "ValueError",
          "evalue": "x and y must have same first dimension, but have shapes (15,) and (1,)",
          "traceback": [
            "\u001b[0;31m---------------------------------------------------------------------------\u001b[0m",
            "\u001b[0;31mValueError\u001b[0m                                Traceback (most recent call last)",
            "\u001b[0;32m<ipython-input-26-ff9a2e3c0291>\u001b[0m in \u001b[0;36m<cell line: 17>\u001b[0;34m()\u001b[0m\n\u001b[1;32m     15\u001b[0m \u001b[0mplt\u001b[0m\u001b[0;34m.\u001b[0m\u001b[0mfigure\u001b[0m\u001b[0;34m(\u001b[0m\u001b[0mfigsize\u001b[0m\u001b[0;34m=\u001b[0m\u001b[0;34m(\u001b[0m\u001b[0;36m10\u001b[0m\u001b[0;34m,\u001b[0m \u001b[0;36m6\u001b[0m\u001b[0;34m)\u001b[0m\u001b[0;34m)\u001b[0m\u001b[0;34m\u001b[0m\u001b[0;34m\u001b[0m\u001b[0m\n\u001b[1;32m     16\u001b[0m \u001b[0mplt\u001b[0m\u001b[0;34m.\u001b[0m\u001b[0mplot\u001b[0m\u001b[0;34m(\u001b[0m\u001b[0mk_values\u001b[0m\u001b[0;34m,\u001b[0m \u001b[0mtime_original\u001b[0m\u001b[0;34m,\u001b[0m \u001b[0mlabel\u001b[0m\u001b[0;34m=\u001b[0m\u001b[0;34m\"Time (Original)\"\u001b[0m\u001b[0;34m,\u001b[0m \u001b[0mcolor\u001b[0m\u001b[0;34m=\u001b[0m\u001b[0;34m'blue'\u001b[0m\u001b[0;34m,\u001b[0m \u001b[0mmarker\u001b[0m\u001b[0;34m=\u001b[0m\u001b[0;34m'o'\u001b[0m\u001b[0;34m)\u001b[0m\u001b[0;34m\u001b[0m\u001b[0;34m\u001b[0m\u001b[0m\n\u001b[0;32m---> 17\u001b[0;31m \u001b[0mplt\u001b[0m\u001b[0;34m.\u001b[0m\u001b[0mplot\u001b[0m\u001b[0;34m(\u001b[0m\u001b[0mk_values\u001b[0m\u001b[0;34m,\u001b[0m \u001b[0mtime_scaled\u001b[0m\u001b[0;34m,\u001b[0m \u001b[0mlabel\u001b[0m\u001b[0;34m=\u001b[0m\u001b[0;34m\"Time (Scaled)\"\u001b[0m\u001b[0;34m,\u001b[0m \u001b[0mcolor\u001b[0m\u001b[0;34m=\u001b[0m\u001b[0;34m'green'\u001b[0m\u001b[0;34m,\u001b[0m \u001b[0mmarker\u001b[0m\u001b[0;34m=\u001b[0m\u001b[0;34m'x'\u001b[0m\u001b[0;34m)\u001b[0m\u001b[0;34m\u001b[0m\u001b[0;34m\u001b[0m\u001b[0m\n\u001b[0m\u001b[1;32m     18\u001b[0m \u001b[0mplt\u001b[0m\u001b[0;34m.\u001b[0m\u001b[0mtitle\u001b[0m\u001b[0;34m(\u001b[0m\u001b[0;34m\"k vs Time Taken\"\u001b[0m\u001b[0;34m)\u001b[0m\u001b[0;34m\u001b[0m\u001b[0;34m\u001b[0m\u001b[0m\n\u001b[1;32m     19\u001b[0m \u001b[0mplt\u001b[0m\u001b[0;34m.\u001b[0m\u001b[0mxlabel\u001b[0m\u001b[0;34m(\u001b[0m\u001b[0;34m\"k (Number of Neighbors)\"\u001b[0m\u001b[0;34m)\u001b[0m\u001b[0;34m\u001b[0m\u001b[0;34m\u001b[0m\u001b[0m\n",
            "\u001b[0;32m/usr/local/lib/python3.10/dist-packages/matplotlib/pyplot.py\u001b[0m in \u001b[0;36mplot\u001b[0;34m(scalex, scaley, data, *args, **kwargs)\u001b[0m\n\u001b[1;32m   3576\u001b[0m     \u001b[0;34m**\u001b[0m\u001b[0mkwargs\u001b[0m\u001b[0;34m,\u001b[0m\u001b[0;34m\u001b[0m\u001b[0;34m\u001b[0m\u001b[0m\n\u001b[1;32m   3577\u001b[0m ) -> list[Line2D]:\n\u001b[0;32m-> 3578\u001b[0;31m     return gca().plot(\n\u001b[0m\u001b[1;32m   3579\u001b[0m         \u001b[0;34m*\u001b[0m\u001b[0margs\u001b[0m\u001b[0;34m,\u001b[0m\u001b[0;34m\u001b[0m\u001b[0;34m\u001b[0m\u001b[0m\n\u001b[1;32m   3580\u001b[0m         \u001b[0mscalex\u001b[0m\u001b[0;34m=\u001b[0m\u001b[0mscalex\u001b[0m\u001b[0;34m,\u001b[0m\u001b[0;34m\u001b[0m\u001b[0;34m\u001b[0m\u001b[0m\n",
            "\u001b[0;32m/usr/local/lib/python3.10/dist-packages/matplotlib/axes/_axes.py\u001b[0m in \u001b[0;36mplot\u001b[0;34m(self, scalex, scaley, data, *args, **kwargs)\u001b[0m\n\u001b[1;32m   1719\u001b[0m         \"\"\"\n\u001b[1;32m   1720\u001b[0m         \u001b[0mkwargs\u001b[0m \u001b[0;34m=\u001b[0m \u001b[0mcbook\u001b[0m\u001b[0;34m.\u001b[0m\u001b[0mnormalize_kwargs\u001b[0m\u001b[0;34m(\u001b[0m\u001b[0mkwargs\u001b[0m\u001b[0;34m,\u001b[0m \u001b[0mmlines\u001b[0m\u001b[0;34m.\u001b[0m\u001b[0mLine2D\u001b[0m\u001b[0;34m)\u001b[0m\u001b[0;34m\u001b[0m\u001b[0;34m\u001b[0m\u001b[0m\n\u001b[0;32m-> 1721\u001b[0;31m         \u001b[0mlines\u001b[0m \u001b[0;34m=\u001b[0m \u001b[0;34m[\u001b[0m\u001b[0;34m*\u001b[0m\u001b[0mself\u001b[0m\u001b[0;34m.\u001b[0m\u001b[0m_get_lines\u001b[0m\u001b[0;34m(\u001b[0m\u001b[0mself\u001b[0m\u001b[0;34m,\u001b[0m \u001b[0;34m*\u001b[0m\u001b[0margs\u001b[0m\u001b[0;34m,\u001b[0m \u001b[0mdata\u001b[0m\u001b[0;34m=\u001b[0m\u001b[0mdata\u001b[0m\u001b[0;34m,\u001b[0m \u001b[0;34m**\u001b[0m\u001b[0mkwargs\u001b[0m\u001b[0;34m)\u001b[0m\u001b[0;34m]\u001b[0m\u001b[0;34m\u001b[0m\u001b[0;34m\u001b[0m\u001b[0m\n\u001b[0m\u001b[1;32m   1722\u001b[0m         \u001b[0;32mfor\u001b[0m \u001b[0mline\u001b[0m \u001b[0;32min\u001b[0m \u001b[0mlines\u001b[0m\u001b[0;34m:\u001b[0m\u001b[0;34m\u001b[0m\u001b[0;34m\u001b[0m\u001b[0m\n\u001b[1;32m   1723\u001b[0m             \u001b[0mself\u001b[0m\u001b[0;34m.\u001b[0m\u001b[0madd_line\u001b[0m\u001b[0;34m(\u001b[0m\u001b[0mline\u001b[0m\u001b[0;34m)\u001b[0m\u001b[0;34m\u001b[0m\u001b[0;34m\u001b[0m\u001b[0m\n",
            "\u001b[0;32m/usr/local/lib/python3.10/dist-packages/matplotlib/axes/_base.py\u001b[0m in \u001b[0;36m__call__\u001b[0;34m(self, axes, data, *args, **kwargs)\u001b[0m\n\u001b[1;32m    301\u001b[0m                 \u001b[0mthis\u001b[0m \u001b[0;34m+=\u001b[0m \u001b[0margs\u001b[0m\u001b[0;34m[\u001b[0m\u001b[0;36m0\u001b[0m\u001b[0;34m]\u001b[0m\u001b[0;34m,\u001b[0m\u001b[0;34m\u001b[0m\u001b[0;34m\u001b[0m\u001b[0m\n\u001b[1;32m    302\u001b[0m                 \u001b[0margs\u001b[0m \u001b[0;34m=\u001b[0m \u001b[0margs\u001b[0m\u001b[0;34m[\u001b[0m\u001b[0;36m1\u001b[0m\u001b[0;34m:\u001b[0m\u001b[0;34m]\u001b[0m\u001b[0;34m\u001b[0m\u001b[0;34m\u001b[0m\u001b[0m\n\u001b[0;32m--> 303\u001b[0;31m             yield from self._plot_args(\n\u001b[0m\u001b[1;32m    304\u001b[0m                 axes, this, kwargs, ambiguous_fmt_datakey=ambiguous_fmt_datakey)\n\u001b[1;32m    305\u001b[0m \u001b[0;34m\u001b[0m\u001b[0m\n",
            "\u001b[0;32m/usr/local/lib/python3.10/dist-packages/matplotlib/axes/_base.py\u001b[0m in \u001b[0;36m_plot_args\u001b[0;34m(self, axes, tup, kwargs, return_kwargs, ambiguous_fmt_datakey)\u001b[0m\n\u001b[1;32m    497\u001b[0m \u001b[0;34m\u001b[0m\u001b[0m\n\u001b[1;32m    498\u001b[0m         \u001b[0;32mif\u001b[0m \u001b[0mx\u001b[0m\u001b[0;34m.\u001b[0m\u001b[0mshape\u001b[0m\u001b[0;34m[\u001b[0m\u001b[0;36m0\u001b[0m\u001b[0;34m]\u001b[0m \u001b[0;34m!=\u001b[0m \u001b[0my\u001b[0m\u001b[0;34m.\u001b[0m\u001b[0mshape\u001b[0m\u001b[0;34m[\u001b[0m\u001b[0;36m0\u001b[0m\u001b[0;34m]\u001b[0m\u001b[0;34m:\u001b[0m\u001b[0;34m\u001b[0m\u001b[0;34m\u001b[0m\u001b[0m\n\u001b[0;32m--> 499\u001b[0;31m             raise ValueError(f\"x and y must have same first dimension, but \"\n\u001b[0m\u001b[1;32m    500\u001b[0m                              f\"have shapes {x.shape} and {y.shape}\")\n\u001b[1;32m    501\u001b[0m         \u001b[0;32mif\u001b[0m \u001b[0mx\u001b[0m\u001b[0;34m.\u001b[0m\u001b[0mndim\u001b[0m \u001b[0;34m>\u001b[0m \u001b[0;36m2\u001b[0m \u001b[0;32mor\u001b[0m \u001b[0my\u001b[0m\u001b[0;34m.\u001b[0m\u001b[0mndim\u001b[0m \u001b[0;34m>\u001b[0m \u001b[0;36m2\u001b[0m\u001b[0;34m:\u001b[0m\u001b[0;34m\u001b[0m\u001b[0;34m\u001b[0m\u001b[0m\n",
            "\u001b[0;31mValueError\u001b[0m: x and y must have same first dimension, but have shapes (15,) and (1,)"
          ]
        },
        {
          "output_type": "display_data",
          "data": {
            "text/plain": [
              "<Figure size 1000x600 with 1 Axes>"
            ],
            "image/png": "[encoded data removed]"
          },
          "metadata": {}
        }
      ]
    }
  ]
}