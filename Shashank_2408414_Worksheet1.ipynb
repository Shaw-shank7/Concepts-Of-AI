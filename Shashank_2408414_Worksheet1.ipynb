{
  "nbformat": 4,
  "nbformat_minor": 0,
  "metadata": {
    "colab": {
      "provenance": []
    },
    "kernelspec": {
      "name": "python3",
      "display_name": "Python 3"
    },
    "language_info": {
      "name": "python"
    }
  },
  "cells": [
    {
      "cell_type": "code",
      "execution_count": 4,
      "metadata": {
        "id": "er53ISct48zK"
      },
      "outputs": [],
      "source": [
        "import numpy as np"
      ]
    },
    {
      "cell_type": "code",
      "source": [
        "#1 Initialize an empty array with size 2X2.\n",
        "empty_array=np.empty((2,2))\n",
        "print(\"Empty Array (2*2):\\n\",empty_array)"
      ],
      "metadata": {
        "colab": {
          "base_uri": "https://localhost:8080/"
        },
        "id": "IvZVciaA6vMj",
        "outputId": "8959bb76-6d8f-4d18-ccd3-0f50f3232c7e"
      },
      "execution_count": null,
      "outputs": [
        {
          "output_type": "stream",
          "name": "stdout",
          "text": [
            "Empty Array (2x2):\n",
            "[[4.88820935e-310 0.00000000e+000]\n",
            " [3.45845952e-323             nan]]\n"
          ]
        }
      ]
    },
    {
      "cell_type": "code",
      "source": [
        "#2 Initialize an all one array with size 4X2.\n",
        "ones_array=np.ones((4,2))\n",
        "print(\"All one array with size (4x2) is:\",ones_array)"
      ],
      "metadata": {
        "colab": {
          "base_uri": "https://localhost:8080/"
        },
        "id": "Ntx9rOpL8b-z",
        "outputId": "b352c94c-eb94-458d-ca84-09b218c2c269"
      },
      "execution_count": null,
      "outputs": [
        {
          "output_type": "stream",
          "name": "stdout",
          "text": [
            "All one array with size (4x2) is: [[1. 1.]\n",
            " [1. 1.]\n",
            " [1. 1.]\n",
            " [1. 1.]]\n"
          ]
        }
      ]
    },
    {
      "cell_type": "code",
      "source": [
        "#3 Return a new array of given shape and type, filled with fill value.{Hint: np.full}\n",
        "filled_array=np.full((3,3),5)\n",
        "print(\"Filled array with fill value and type:\",filled_array)"
      ],
      "metadata": {
        "colab": {
          "base_uri": "https://localhost:8080/"
        },
        "id": "o2_FT5Qx87RR",
        "outputId": "c58c1a49-2714-4d1f-a7d2-b9c50afd8a98"
      },
      "execution_count": null,
      "outputs": [
        {
          "output_type": "stream",
          "name": "stdout",
          "text": [
            "Filled array with fill value and type: [[5 5 5]\n",
            " [5 5 5]\n",
            " [5 5 5]]\n"
          ]
        }
      ]
    },
    {
      "cell_type": "code",
      "source": [
        "#4 Return a new array of zeros with same shape and type as a given array.{Hint: np.zeros like}\n",
        "zero_array=np.zeros_like(filled_array)\n",
        "print(\"Zero array is:\",zero_array)"
      ],
      "metadata": {
        "colab": {
          "base_uri": "https://localhost:8080/"
        },
        "id": "24CxRDoT-WyF",
        "outputId": "3ef38d69-3a7c-40b3-aaa6-82bf00aad08e"
      },
      "execution_count": null,
      "outputs": [
        {
          "output_type": "stream",
          "name": "stdout",
          "text": [
            "Zero array is: [[0 0 0]\n",
            " [0 0 0]\n",
            " [0 0 0]]\n"
          ]
        }
      ]
    },
    {
      "cell_type": "code",
      "source": [
        "#5 Return a new array of ones with same shape and type as a given array.{Hint: np.ones like}\n",
        "ones_array=np.ones_like(filled_array)\n",
        "print(\"Ones array is:\",ones_array)"
      ],
      "metadata": {
        "colab": {
          "base_uri": "https://localhost:8080/"
        },
        "id": "_UwDcpsZ_aWn",
        "outputId": "ade5143f-cf40-407b-e662-d3d2eae334cb"
      },
      "execution_count": null,
      "outputs": [
        {
          "output_type": "stream",
          "name": "stdout",
          "text": [
            "Ones array is: [[1 1 1]\n",
            " [1 1 1]\n",
            " [1 1 1]]\n"
          ]
        }
      ]
    },
    {
      "cell_type": "code",
      "source": [
        "#6 For an existing list new_list = [1,2,3,4] convert to an numpy array.{Hint: np.array()}\n",
        "new_list=[1,2,3,4]\n",
        "numpy_array=np.array(new_list)\n",
        "print(\"Numpy array is:\",numpy_array)"
      ],
      "metadata": {
        "colab": {
          "base_uri": "https://localhost:8080/"
        },
        "id": "baCi_6HkBUvx",
        "outputId": "ddd43ba6-f5de-43ff-ca98-60d9a977a38b"
      },
      "execution_count": null,
      "outputs": [
        {
          "output_type": "stream",
          "name": "stdout",
          "text": [
            "Numpy array is: [1 2 3 4]\n"
          ]
        }
      ]
    },
    {
      "cell_type": "code",
      "source": [
        "#Problem2 1. Create an array with values ranging from 10 to 49. {Hint:np.arrange()}.\n",
        "arrange_array = np.arange(10, 50)\n",
        "print(\"Arranged array with values ranging from 10 to 49 is:\", arrange_array)\n"
      ],
      "metadata": {
        "colab": {
          "base_uri": "https://localhost:8080/"
        },
        "id": "enHtK7-QBf98",
        "outputId": "ac91a7a6-e160-4532-ba71-73ee9ed0e891"
      },
      "execution_count": null,
      "outputs": [
        {
          "output_type": "stream",
          "name": "stdout",
          "text": [
            "Arranged array with values ranging from 10 to 49 is: [10 11 12 13 14 15 16 17 18 19 20 21 22 23 24 25 26 27 28 29 30 31 32 33\n",
            " 34 35 36 37 38 39 40 41 42 43 44 45 46 47 48 49]\n"
          ]
        }
      ]
    },
    {
      "cell_type": "code",
      "source": [
        "#2 Create a 3X3 matrix with values ranging from 0 to 8.{Hint:look for np.reshape()}\n",
        "reshape_array=np.arange(9).reshape(3,3)\n",
        "print(\"Reshaped array is:\",reshape_array)\n"
      ],
      "metadata": {
        "id": "GtC_-Yp0Eh0Y",
        "colab": {
          "base_uri": "https://localhost:8080/"
        },
        "outputId": "d3b0d281-71e6-4211-d92e-92f96128a722"
      },
      "execution_count": 6,
      "outputs": [
        {
          "output_type": "stream",
          "name": "stdout",
          "text": [
            "Reshaped array is: [[0 1 2]\n",
            " [3 4 5]\n",
            " [6 7 8]]\n"
          ]
        }
      ]
    },
    {
      "cell_type": "code",
      "source": [
        "#3Create a 3X3 identity matrix.{Hint:np.eye()}\n",
        "identity_matrix=np.eye(3,3)\n",
        "print(\"Identitiy matrix :\",identity_matrix)"
      ],
      "metadata": {
        "colab": {
          "base_uri": "https://localhost:8080/"
        },
        "id": "2jZsGREFPXQA",
        "outputId": "ddb0b7c5-4b19-4bde-eca7-e6f1a2dc4994"
      },
      "execution_count": 7,
      "outputs": [
        {
          "output_type": "stream",
          "name": "stdout",
          "text": [
            "Identitiy matrix : [[1. 0. 0.]\n",
            " [0. 1. 0.]\n",
            " [0. 0. 1.]]\n"
          ]
        }
      ]
    },
    {
      "cell_type": "code",
      "source": [
        "#4 Create a random array of size 30 and find the mean of the array. {Hint:check for np.random.random() and array.mean() function}\n",
        "random_array=np.random.random(30)\n",
        "mean_value=random_array.mean()\n",
        "print(\"Random array:\",random_array)\n",
        "print(\"\\nMean of the array is:\",mean_value)"
      ],
      "metadata": {
        "colab": {
          "base_uri": "https://localhost:8080/"
        },
        "id": "NimgKKuNPvrZ",
        "outputId": "7949c2d9-36c2-464e-f4cf-24b30d2611ec"
      },
      "execution_count": 10,
      "outputs": [
        {
          "output_type": "stream",
          "name": "stdout",
          "text": [
            "Random array: [0.35906903 0.60063053 0.40783092 0.02440039 0.21709558 0.00262677\n",
            " 0.32797939 0.17795426 0.05299823 0.68680522 0.46069079 0.99684178\n",
            " 0.85185027 0.76476743 0.50968953 0.78898534 0.17723274 0.13385639\n",
            " 0.50434889 0.92721567 0.00771176 0.97904179 0.32937745 0.25352857\n",
            " 0.87193307 0.93991358 0.99081893 0.58256698 0.41244701 0.75942606]\n",
            "\n",
            "Mean of the array is: 0.5033211453345735\n"
          ]
        }
      ]
    },
    {
      "cell_type": "code",
      "source": [
        "#5 Create a 10X10 array with random values and find the minimum and maximum values.\n",
        "random_array = np.random.random((10, 10))\n",
        "\n",
        "min_value = random_array.min()\n",
        "max_value = random_array.max()\n",
        "\n",
        "print(\"Random 10x10 array:\",random_array)\n",
        "print(\"\\nMinimum value:\", min_value,\"and the Maxium value is:\",max_value)\n",
        "\n"
      ],
      "metadata": {
        "colab": {
          "base_uri": "https://localhost:8080/"
        },
        "id": "x3Y4-F4JQCMA",
        "outputId": "21cb12b1-3f95-407b-a177-4eb8ab216764"
      },
      "execution_count": 11,
      "outputs": [
        {
          "output_type": "stream",
          "name": "stdout",
          "text": [
            "Random 10x10 array: [[0.41447724 0.5021952  0.34347665 0.02668226 0.88681614 0.76221678\n",
            "  0.52825185 0.74297276 0.10527127 0.7357881 ]\n",
            " [0.10597104 0.66272749 0.45406014 0.82242169 0.8379571  0.34503209\n",
            "  0.12205052 0.39477036 0.03845163 0.83066313]\n",
            " [0.50315524 0.24898172 0.70228006 0.95311981 0.11170489 0.42173424\n",
            "  0.56100861 0.16587844 0.7998999  0.41868897]\n",
            " [0.77007006 0.14660835 0.19146803 0.82457202 0.43307165 0.30183541\n",
            "  0.58527203 0.91548968 0.6134258  0.41494136]\n",
            " [0.01331103 0.7629476  0.92686005 0.46075997 0.86148226 0.83758423\n",
            "  0.99956213 0.9615438  0.3076577  0.95172429]\n",
            " [0.13847944 0.65070014 0.01993692 0.63014476 0.70810338 0.12076688\n",
            "  0.42914971 0.52992505 0.55401681 0.16597492]\n",
            " [0.1141989  0.60304985 0.5111389  0.22177768 0.42764495 0.01495978\n",
            "  0.8723044  0.15277938 0.20121402 0.82693181]\n",
            " [0.24071461 0.71336491 0.8320199  0.74595657 0.4638064  0.9720354\n",
            "  0.89544026 0.89339953 0.53514508 0.78824513]\n",
            " [0.52370049 0.90877813 0.63897498 0.4654682  0.40839246 0.87720118\n",
            "  0.81587334 0.93537414 0.25950676 0.43266091]\n",
            " [0.64600425 0.54628159 0.46827873 0.15106426 0.78001788 0.52381074\n",
            "  0.42440164 0.43907259 0.42235752 0.31980154]]\n",
            "\n",
            "Minimum value: 0.013311033778622972 and the Maxium value is: 0.9995621309409258\n"
          ]
        }
      ]
    },
    {
      "cell_type": "code",
      "source": [
        "#6 Create a zero array of size 10 and replace 5th element with 1.\n",
        "zero_array=np.zeros(10)\n",
        "zero_array[4]=1\n",
        "print(\"Modified array\",zero_array)\n"
      ],
      "metadata": {
        "colab": {
          "base_uri": "https://localhost:8080/"
        },
        "id": "qfV2WgQGQ8dz",
        "outputId": "a8cb2b7c-ef8d-4813-e495-8369a86e1eb9"
      },
      "execution_count": 12,
      "outputs": [
        {
          "output_type": "stream",
          "name": "stdout",
          "text": [
            "Modified array [0. 0. 0. 0. 1. 0. 0. 0. 0. 0.]\n"
          ]
        }
      ]
    },
    {
      "cell_type": "code",
      "source": [
        "#7 Reverse an array arr = [1,2,0,0,4,0].\n",
        "reverse_array=[1,2,0,0,4,0]\n",
        "reverse_array.reverse()\n",
        "print(\"Reversed array is:\",reverse_array)"
      ],
      "metadata": {
        "colab": {
          "base_uri": "https://localhost:8080/"
        },
        "id": "14aSGc3hSASH",
        "outputId": "fde1d0a7-822b-4a8a-d731-63adb60bbf62"
      },
      "execution_count": 16,
      "outputs": [
        {
          "output_type": "stream",
          "name": "stdout",
          "text": [
            "Reversed array is: [0, 4, 0, 0, 2, 1]\n"
          ]
        }
      ]
    },
    {
      "cell_type": "code",
      "source": [
        "#8 Create a 2d array with 1 on border and 0 inside.\n",
        "import numpy as np\n",
        "\n",
        "rows, cols = 4, 4\n",
        "array = np.zeros((rows, cols), dtype=int)\n",
        "array[0, :] = 1\n",
        "array[-1, :] = 1\n",
        "array[:, 0] = 1\n",
        "array[:, -1] = 1\n",
        "\n",
        "print(\"2D array with border of 1s and inside 0s:\",array)\n",
        "\n"
      ],
      "metadata": {
        "colab": {
          "base_uri": "https://localhost:8080/"
        },
        "id": "oaFG99RyTTuG",
        "outputId": "ff0315ec-db8e-48f8-8097-a7be6ef0b12a"
      },
      "execution_count": 17,
      "outputs": [
        {
          "output_type": "stream",
          "name": "stdout",
          "text": [
            "2D array with border of 1s and inside 0s:\n",
            "[[1 1 1 1]\n",
            " [1 0 0 1]\n",
            " [1 0 0 1]\n",
            " [1 1 1 1]]\n"
          ]
        }
      ]
    },
    {
      "cell_type": "code",
      "source": [
        "#9 Create a 8X8 matrix and fill it with a checkerboard pattern.\n",
        "import numpy as np\n",
        "\n",
        "checkerboard = np.zeros((8, 8), dtype=int)\n",
        "checkerboard[1::2, ::2] = 1\n",
        "checkerboard[::2, 1::2] = 1\n",
        "\n",
        "print(\"Checkerboard pattern:\",checkerboard)\n"
      ],
      "metadata": {
        "colab": {
          "base_uri": "https://localhost:8080/"
        },
        "id": "ab_6RUR1Un3B",
        "outputId": "bcbd0ff1-5109-4142-9da9-2f4d6dffb566"
      },
      "execution_count": 18,
      "outputs": [
        {
          "output_type": "stream",
          "name": "stdout",
          "text": [
            "Checkerboard pattern: [[0 1 0 1 0 1 0 1]\n",
            " [1 0 1 0 1 0 1 0]\n",
            " [0 1 0 1 0 1 0 1]\n",
            " [1 0 1 0 1 0 1 0]\n",
            " [0 1 0 1 0 1 0 1]\n",
            " [1 0 1 0 1 0 1 0]\n",
            " [0 1 0 1 0 1 0 1]\n",
            " [1 0 1 0 1 0 1 0]]\n"
          ]
        }
      ]
    },
    {
      "cell_type": "code",
      "source": [
        "# Problem 3\n",
        "# For the following arrays:\n",
        "# x = np.array([[1,2],[3,5]]) and y = np.array([[5,6],[7,8]]);\n",
        "# v = np.array([9,10]) and w = np.array([11,12]);\n",
        "\n",
        "#1 Add the two array.\n",
        "\n",
        "x = np.array([[1, 2], [3, 5]])\n",
        "y = np.array([[5, 6], [7, 8]])\n",
        "\n",
        "result = x + y\n",
        "\n",
        "print(\"Sum of x and y:\",result)\n",
        "\n"
      ],
      "metadata": {
        "colab": {
          "base_uri": "https://localhost:8080/"
        },
        "id": "hATcS5qkU6j2",
        "outputId": "9b460dd2-a28e-483e-941e-5128977c68e1"
      },
      "execution_count": 19,
      "outputs": [
        {
          "output_type": "stream",
          "name": "stdout",
          "text": [
            "Sum of x and y: [[ 6  8]\n",
            " [10 13]]\n"
          ]
        }
      ]
    },
    {
      "cell_type": "code",
      "source": [
        "#2 Subtract the two array.\n",
        "x = np.array([[1, 2], [3, 5]])\n",
        "y = np.array([[5, 6], [7, 8]])\n",
        "\n",
        "result = x - y\n",
        "\n",
        "print(\"Subtraction of x and y:\",result)"
      ],
      "metadata": {
        "colab": {
          "base_uri": "https://localhost:8080/"
        },
        "id": "onUUl-Fzcrdy",
        "outputId": "544f1a8f-6b4c-4e37-f0d0-096f36ff7e35"
      },
      "execution_count": 21,
      "outputs": [
        {
          "output_type": "stream",
          "name": "stdout",
          "text": [
            "Subtraction of x and y: [[-4 -4]\n",
            " [-4 -3]]\n"
          ]
        }
      ]
    },
    {
      "cell_type": "code",
      "source": [
        "#3 Multiply the array with any integers of your choice.\n",
        "\n",
        "y = np.array([[5, 6], [7, 8]])\n",
        "\n",
        "result = y*3\n",
        "\n",
        "print(\"Multiplication of y:\",result)"
      ],
      "metadata": {
        "colab": {
          "base_uri": "https://localhost:8080/"
        },
        "id": "kCSGkGkzcxju",
        "outputId": "d1254f09-8a04-4ef4-c58f-c808ff688f34"
      },
      "execution_count": 22,
      "outputs": [
        {
          "output_type": "stream",
          "name": "stdout",
          "text": [
            "Multiplication of y: [[15 18]\n",
            " [21 24]]\n"
          ]
        }
      ]
    },
    {
      "cell_type": "code",
      "source": [
        "#4 Find the square of each element of the array.\n",
        "x = np.array([[1, 2], [3, 5]])\n",
        "y = np.array([[5, 6], [7, 8]])\n",
        "\n",
        "result_x = x**2\n",
        "result_y=y**2\n",
        "\n",
        "print(\"Square of x is:\",result_x)\n",
        "print(\"Square of y:\",result_y)"
      ],
      "metadata": {
        "colab": {
          "base_uri": "https://localhost:8080/"
        },
        "id": "D2D0AsjYdDDf",
        "outputId": "77afd021-5b0d-49cf-d840-a29bc9cc5748"
      },
      "execution_count": 23,
      "outputs": [
        {
          "output_type": "stream",
          "name": "stdout",
          "text": [
            "Square of x is: [[ 1  4]\n",
            " [ 9 25]]\n",
            "Square of y: [[25 36]\n",
            " [49 64]]\n"
          ]
        }
      ]
    },
    {
      "cell_type": "code",
      "source": [
        "#5 Find the dot product between: v(and)w ; x(and)v ; x(and)y.\n",
        "\n",
        "x = np.array([[1, 2], [3, 5]])\n",
        "y = np.array([[5, 6], [7, 8]])\n",
        "v = np.array([9, 10])\n",
        "w = np.array([11, 12])\n",
        "\n",
        "dot_vw = np.dot(v, w)\n",
        "\n",
        "dot_xv = np.dot(x, v)\n",
        "\n",
        "dot_xy = np.dot(x, y)\n",
        "\n",
        "print(\"Dot product of v and w:\", dot_vw)\n",
        "print(\"Dot product of x and v:\", dot_xv)\n",
        "print(\"Dot product of x and y:\", dot_xy)\n"
      ],
      "metadata": {
        "colab": {
          "base_uri": "https://localhost:8080/"
        },
        "id": "D9LDIOUcdmQp",
        "outputId": "902b9bdf-b5a1-4f75-aa1a-1e9b55401066"
      },
      "execution_count": 24,
      "outputs": [
        {
          "output_type": "stream",
          "name": "stdout",
          "text": [
            "Dot product of v and w: 219\n",
            "Dot product of x and v: [29 77]\n",
            "Dot product of x and y: [[19 22]\n",
            " [50 58]]\n"
          ]
        }
      ]
    },
    {
      "cell_type": "code",
      "source": [
        "#6 Concatenate x(and)y along row and Concatenate v(and)w along column. {Hint:try np.concatenate() or np.vstack() functions.\n",
        "\n",
        "x = np.array([[1, 2], [3, 5]])\n",
        "y = np.array([[5, 6], [7, 8]])\n",
        "v = np.array([9, 10])\n",
        "w = np.array([11, 12])\n",
        "\n",
        "concat_xy_rows = np.concatenate((x, y), axis=0)\n",
        "\n",
        "v_reshaped = v.reshape(-1, 1)\n",
        "w_reshaped = w.reshape(-1, 1)\n",
        "concat_vw_columns = np.concatenate((v_reshaped, w_reshaped), axis=1)\n",
        "\n",
        "print(\"Concatenated x and y along rows:\")\n",
        "print(concat_xy_rows)\n",
        "\n",
        "print(\"Concatenated v and w along columns:\")\n",
        "print(concat_vw_columns)\n"
      ],
      "metadata": {
        "colab": {
          "base_uri": "https://localhost:8080/"
        },
        "id": "XIN42GROd-x0",
        "outputId": "d3c96236-6cdd-4951-b416-0f4be5fec050"
      },
      "execution_count": 25,
      "outputs": [
        {
          "output_type": "stream",
          "name": "stdout",
          "text": [
            "Concatenated x and y along rows:\n",
            "[[1 2]\n",
            " [3 5]\n",
            " [5 6]\n",
            " [7 8]]\n",
            "Concatenated v and w along columns:\n",
            "[[ 9 11]\n",
            " [10 12]]\n"
          ]
        }
      ]
    },
    {
      "cell_type": "code",
      "source": [
        "#7 Concatenate x(and)v; if you get an error, observe and explain why did you get the error?\n",
        "\n",
        "x = np.array([[1, 2], [3, 5]])\n",
        "v = np.array([9, 10])\n",
        "\n",
        "try:\n",
        "    result = np.concatenate((x, v), axis=0)\n",
        "    print(\"Concatenated x and v:\")\n",
        "    print(result)\n",
        "except Exception as e:\n",
        "    print(\"Error:\", e)\n"
      ],
      "metadata": {
        "colab": {
          "base_uri": "https://localhost:8080/"
        },
        "id": "I-vrgwaaeLKG",
        "outputId": "eb45583c-5bcd-4ed9-b25f-d3d215d16bd7"
      },
      "execution_count": 27,
      "outputs": [
        {
          "output_type": "stream",
          "name": "stdout",
          "text": [
            "Error: all the input arrays must have same number of dimensions, but the array at index 0 has 2 dimension(s) and the array at index 1 has 1 dimension(s)\n"
          ]
        }
      ]
    },
    {
      "cell_type": "code",
      "source": [
        "# Problem 4\n",
        "#1 • For the following arrays:\n",
        "# A = np.array([[3,4],[7,8]]) and B = np.array([[5,3],[2,1]]);\n",
        "# Prove following with Numpy:\n",
        "# 1. Prove A.A−1 = I.\n",
        "# 2. Prove AB ̸= BA.\n",
        "# 3. Prove (AB)\n",
        "# T = BTAT\n",
        "\n",
        "\n",
        "A = np.array([[3, 4], [7, 8]])\n",
        "B = np.array([[5, 3], [2, 1]])\n",
        "\n",
        "# 1. Prove A * A_inv = I\n",
        "A_inv = np.linalg.inv(A)\n",
        "result_1 = np.dot(A, A_inv)\n",
        "\n",
        "# 2. Prove A * B != B * A\n",
        "AB = np.dot(A, B)\n",
        "BA = np.dot(B, A)\n",
        "\n",
        "# 3. Prove (AB)^T = B^T * A^T\n",
        "AB_T = np.transpose(AB)\n",
        "B_T_A_T = np.dot(np.transpose(B), np.transpose(A))\n",
        "\n",
        "# Print results\n",
        "print(\"A * A_inv:\",result_1)\n",
        "print(\"\\nA * B:\",AB)\n",
        "\n",
        "print(\"\\nB * A:\",BA)\n",
        "\n",
        "print(\"\\nTranspose of A * B:\",AB_T)\n",
        "\n",
        "print(\"\\nB^T * A^T:\",B_T_A_T)\n",
        "\n"
      ],
      "metadata": {
        "colab": {
          "base_uri": "https://localhost:8080/"
        },
        "id": "8gjygJlJexOl",
        "outputId": "ee0fc8f6-da3f-4756-fb1f-fe6f90b67137"
      },
      "execution_count": 29,
      "outputs": [
        {
          "output_type": "stream",
          "name": "stdout",
          "text": [
            "A * A_inv: [[1.00000000e+00 0.00000000e+00]\n",
            " [1.77635684e-15 1.00000000e+00]]\n",
            "\n",
            "A * B: [[23 13]\n",
            " [51 29]]\n",
            "\n",
            "B * A: [[36 44]\n",
            " [13 16]]\n",
            "\n",
            "Transpose of A * B: [[23 51]\n",
            " [13 29]]\n",
            "\n",
            "B^T * A^T: [[23 51]\n",
            " [13 29]]\n"
          ]
        }
      ]
    },
    {
      "cell_type": "code",
      "source": [
        "#2 Solve the following system of Linear equation using Inverse Methods.\n",
        "# 2x − 3y + z = −1\n",
        "# x − y + 2z = −3\n",
        "# 3x + y − z = 9\n",
        "\n",
        "A = np.array([[2, -3, 1],\n",
        "              [1, -1, 2],\n",
        "              [3, 1, -1]])\n",
        "B = np.array([-1, -3, 9])\n",
        "\n",
        "\n",
        "A_inv = np.linalg.inv(A)\n",
        "\n",
        "X = np.dot(A_inv, B)\n",
        "\n",
        "print(\"Solution (x, y, z):\", X)\n"
      ],
      "metadata": {
        "colab": {
          "base_uri": "https://localhost:8080/"
        },
        "id": "BWuL-hyEfxhV",
        "outputId": "73080181-7836-4f95-ad02-6b3798249500"
      },
      "execution_count": 32,
      "outputs": [
        {
          "output_type": "stream",
          "name": "stdout",
          "text": [
            "Solution (x, y, z): [ 2.  1. -2.]\n"
          ]
        }
      ]
    },
    {
      "cell_type": "code",
      "source": [
        "#3 Now: solve the above equation using np.linalg.inv function.{Explore more about ”linalg” function\n",
        "import numpy as np\n",
        "\n",
        "\n",
        "A = np.array([[2, -3, 1],\n",
        "              [1, -1, 2],\n",
        "              [3, 1, -1]])\n",
        "\n",
        "B = np.array([-1, -3, 9])\n",
        "\n",
        "X = np.linalg.inv(A).dot(B)\n",
        "\n",
        "print(\"Solution (x, y, z):\", X)\n"
      ],
      "metadata": {
        "colab": {
          "base_uri": "https://localhost:8080/"
        },
        "id": "Q063YwWJgQym",
        "outputId": "c0342f2b-3b3b-4646-e48a-72d1ad0ebc58"
      },
      "execution_count": 33,
      "outputs": [
        {
          "output_type": "stream",
          "name": "stdout",
          "text": [
            "Solution (x, y, z): [ 2.  1. -2.]\n"
          ]
        }
      ]
    }
  ]
}